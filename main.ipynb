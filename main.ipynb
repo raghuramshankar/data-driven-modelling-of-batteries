{
  "nbformat": 4,
  "nbformat_minor": 0,
  "metadata": {
    "colab": {
      "name": "Untitled0.ipynb",
      "provenance": [],
      "authorship_tag": "ABX9TyOEdXUXFYXa3pjTlIyGTZKp",
      "include_colab_link": true
    },
    "kernelspec": {
      "name": "python3",
      "display_name": "Python 3"
    },
    "language_info": {
      "name": "python"
    }
  },
  "cells": [
    {
      "cell_type": "markdown",
      "metadata": {
        "id": "view-in-github",
        "colab_type": "text"
      },
      "source": [
        "<a href=\"https://colab.research.google.com/github/raghuramshankar/data-driven-modelling-of-li-ion-batteries/blob/main/main.ipynb\" target=\"_parent\"><img src=\"https://colab.research.google.com/assets/colab-badge.svg\" alt=\"Open In Colab\"/></a>"
      ]
    },
    {
      "cell_type": "code",
      "metadata": {
        "id": "tbsno8vftuiI"
      },
      "source": [
        "%pip install numpy pandas matplotlib -q"
      ],
      "execution_count": 10,
      "outputs": []
    },
    {
      "cell_type": "code",
      "metadata": {
        "id": "OCGHJfBhwd2F",
        "outputId": "d7b3a059-ec35-4b87-b332-a3250079fa84",
        "colab": {
          "base_uri": "https://localhost:8080/"
        }
      },
      "source": [
        "import os\n",
        "import sys\n",
        "\n",
        "import matplotlib.pyplot as plt\n",
        "import pandas as pd\n",
        "\n",
        "sys.path.append(\"../\")\n",
        "print(os.path)"
      ],
      "execution_count": 15,
      "outputs": [
        {
          "output_type": "stream",
          "name": "stdout",
          "text": [
            "<module 'posixpath' from '/usr/lib/python3.7/posixpath.py'>\n"
          ]
        }
      ]
    },
    {
      "cell_type": "code",
      "metadata": {
        "id": "XuF1J_6VJRMT",
        "outputId": "d146fbcd-e1a0-474d-e422-4b6ba5c18f3a",
        "colab": {
          "base_uri": "https://localhost:8080/",
          "height": 371
        }
      },
      "source": [
        "from src.plotData import plotData\n",
        "from src.cellData import cellData\n",
        "from src.cellExtractOCV import cellExtractOCV\n",
        "from src.cellSim import cellSim"
      ],
      "execution_count": 16,
      "outputs": [
        {
          "output_type": "error",
          "ename": "ModuleNotFoundError",
          "evalue": "ignored",
          "traceback": [
            "\u001b[0;31m---------------------------------------------------------------------------\u001b[0m",
            "\u001b[0;31mModuleNotFoundError\u001b[0m                       Traceback (most recent call last)",
            "\u001b[0;32m<ipython-input-16-bd3bc184725b>\u001b[0m in \u001b[0;36m<module>\u001b[0;34m()\u001b[0m\n\u001b[0;32m----> 1\u001b[0;31m \u001b[0;32mfrom\u001b[0m \u001b[0msrc\u001b[0m\u001b[0;34m.\u001b[0m\u001b[0mplotData\u001b[0m \u001b[0;32mimport\u001b[0m \u001b[0mplotData\u001b[0m\u001b[0;34m\u001b[0m\u001b[0;34m\u001b[0m\u001b[0m\n\u001b[0m\u001b[1;32m      2\u001b[0m \u001b[0;32mfrom\u001b[0m \u001b[0msrc\u001b[0m\u001b[0;34m.\u001b[0m\u001b[0mcellData\u001b[0m \u001b[0;32mimport\u001b[0m \u001b[0mcellData\u001b[0m\u001b[0;34m\u001b[0m\u001b[0;34m\u001b[0m\u001b[0m\n\u001b[1;32m      3\u001b[0m \u001b[0;32mfrom\u001b[0m \u001b[0msrc\u001b[0m\u001b[0;34m.\u001b[0m\u001b[0mcellExtractOCV\u001b[0m \u001b[0;32mimport\u001b[0m \u001b[0mcellExtractOCV\u001b[0m\u001b[0;34m\u001b[0m\u001b[0;34m\u001b[0m\u001b[0m\n\u001b[1;32m      4\u001b[0m \u001b[0;32mfrom\u001b[0m \u001b[0msrc\u001b[0m\u001b[0;34m.\u001b[0m\u001b[0mcellSim\u001b[0m \u001b[0;32mimport\u001b[0m \u001b[0mcellSim\u001b[0m\u001b[0;34m\u001b[0m\u001b[0;34m\u001b[0m\u001b[0m\n",
            "\u001b[0;31mModuleNotFoundError\u001b[0m: No module named 'src'",
            "",
            "\u001b[0;31m---------------------------------------------------------------------------\u001b[0;32m\nNOTE: If your import is failing due to a missing package, you can\nmanually install dependencies using either !pip or !apt.\n\nTo view examples of installing some common dependencies, click the\n\"Open Examples\" button below.\n\u001b[0;31m---------------------------------------------------------------------------\u001b[0m\n"
          ],
          "errorDetails": {
            "actions": [
              {
                "action": "open_url",
                "actionText": "Open Examples",
                "url": "/notebooks/snippets/importing_libraries.ipynb"
              }
            ]
          }
        }
      ]
    },
    {
      "cell_type": "code",
      "metadata": {
        "id": "qh6hItB88XPS"
      },
      "source": [
        "def main():\n",
        "    \"\"\"define cell filename\"\"\"\n",
        "    pathname = (\n",
        "        \"datasets/lg-18650hg2/LG_HG2_Original_Dataset_McMasterUniversity_Jan_2020/\"\n",
        "    )\n",
        "    temp = \"25degC/\"\n",
        "    filenames = [\n",
        "        filename\n",
        "        for filename in os.listdir(pathname + temp)\n",
        "        if filename.endswith(\".csv\")\n",
        "    ]\n",
        "    d = pd.DataFrame(filenames)\n",
        "    d.to_csv(\"filenames.csv\", header=None, index=False)\n",
        "    filename = temp + \"549_C20DisCh.csv\"\n",
        "\n",
        "    \"\"\"extract from dataset\"\"\"\n",
        "    cellDataObj = cellData(filename, pathname)\n",
        "    plotDataObj = plotData()\n",
        "\n",
        "    cellDataObj.extractData()\n",
        "\n",
        "    plotDataObj.plotDataFromDataset(cellDataObj)\n",
        "\n",
        "    \"\"\"extract and save OCV functions\"\"\"\n",
        "    cellExtractOCVObj = cellExtractOCV(cellDataObj)\n",
        "\n",
        "    cellExtractOCVObj.runOCV()\n",
        "\n",
        "    plotDataObj.plotComputedOCV(cellExtractOCVObj)\n",
        "\n",
        "    \"\"\"extract and save dynamic functions\"\"\"\n",
        "    filename = temp + \"551_Mixed1.csv\"\n",
        "    cellDataObj = cellData(filename, pathname)\n",
        "\n",
        "    cellDataObj.extractData()\n",
        "\n",
        "    cellSimObj = cellSim(cellDataObj)\n",
        "\n",
        "    cellSimObj.runSimLoad()\n",
        "\n",
        "    plotDataObj.plotLoadedOCV(cellSimObj)\n",
        "    plotDataObj.plotDynamic(cellSimObj)\n",
        "\n",
        "    plt.show()"
      ],
      "execution_count": null,
      "outputs": []
    },
    {
      "cell_type": "code",
      "metadata": {
        "id": "U8XAlNmF8beH"
      },
      "source": [
        "if __name__ == \"__main__\":\n",
        "    main()"
      ],
      "execution_count": null,
      "outputs": []
    }
  ]
}